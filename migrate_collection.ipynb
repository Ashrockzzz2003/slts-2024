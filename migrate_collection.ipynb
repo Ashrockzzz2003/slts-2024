{
 "cells": [
  {
   "cell_type": "code",
   "execution_count": 1,
   "metadata": {},
   "outputs": [],
   "source": [
    "import warnings\n",
    "import firebase_admin\n",
    "from firebase_admin import credentials, firestore\n",
    "\n",
    "warnings.filterwarnings(\"ignore\")"
   ]
  },
  {
   "cell_type": "code",
   "execution_count": 2,
   "metadata": {},
   "outputs": [],
   "source": [
    "cred = credentials.Certificate(\"slts-8e29d-firebase-adminsdk-i6d1u-d3ea7654ac.json\")\n",
    "firebase_admin.initialize_app(cred)\n",
    "db = firestore.client()"
   ]
  },
  {
   "cell_type": "code",
   "execution_count": null,
   "metadata": {},
   "outputs": [],
   "source": [
    "registrationData = db.collection('registrationData').stream()\n",
    "data = []\n",
    "for doc in registrationData:\n",
    "    data.append(doc.to_dict())"
   ]
  },
  {
   "cell_type": "code",
   "execution_count": null,
   "metadata": {},
   "outputs": [],
   "source": [
    "registrationData = db.collection('registrationData').stream()\n",
    "data = []\n",
    "for doc in registrationData:\n",
    "    data.append(doc.to_dict())\n",
    "\n",
    "# Delete all documents in regData collection\n",
    "regData = db.collection('regData').stream()\n",
    "for doc in regData:\n",
    "    doc.reference.delete()\n",
    "    print(f\"Document {doc.id} deleted\")\n",
    "\n",
    "# Write registrationData to regData collection\n",
    "for i in data:\n",
    "    db.collection('regData').document(i['studentId']).set(i)\n",
    "    print(f\"Data for {i['studentId']} added to regData collection\")"
   ]
  }
 ],
 "metadata": {
  "kernelspec": {
   "display_name": "venv",
   "language": "python",
   "name": "python3"
  },
  "language_info": {
   "codemirror_mode": {
    "name": "ipython",
    "version": 3
   },
   "file_extension": ".py",
   "mimetype": "text/x-python",
   "name": "python",
   "nbconvert_exporter": "python",
   "pygments_lexer": "ipython3",
   "version": "3.12.4"
  }
 },
 "nbformat": 4,
 "nbformat_minor": 2
}
