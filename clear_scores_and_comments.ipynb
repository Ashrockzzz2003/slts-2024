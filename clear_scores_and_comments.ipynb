{
 "cells": [
  {
   "cell_type": "code",
   "execution_count": 15,
   "metadata": {},
   "outputs": [],
   "source": [
    "import warnings\n",
    "import firebase_admin\n",
    "from firebase_admin import credentials, firestore\n",
    "\n",
    "warnings.filterwarnings(\"ignore\")"
   ]
  },
  {
   "cell_type": "code",
   "execution_count": 16,
   "metadata": {},
   "outputs": [],
   "source": [
    "cred = credentials.Certificate(\"slts-8e29d-firebase-adminsdk-i6d1u-d3ea7654ac.json\")\n",
    "firebase_admin.initialize_app(cred)\n",
    "db = firestore.client()"
   ]
  },
  {
   "cell_type": "code",
   "execution_count": 17,
   "metadata": {},
   "outputs": [],
   "source": [
    "def removeScoresAndComments(studentData):\n",
    "    try:\n",
    "        for student in studentData:\n",
    "            studentRef = db.collection('registrationData').document(student['studentId'])\n",
    "            studentRef.update({\n",
    "                'score': firestore.DELETE_FIELD,\n",
    "                'comment': firestore.DELETE_FIELD\n",
    "            })\n",
    "    except Exception as e:\n",
    "        print(e)"
   ]
  },
  {
   "cell_type": "code",
   "execution_count": 18,
   "metadata": {},
   "outputs": [],
   "source": [
    "data = db.collection(\"registrationData\").stream()\n",
    "\n",
    "studentData = []\n",
    "for student in data:\n",
    "    studentData.append(student.to_dict())\n",
    "\n",
    "\n",
    "removeScoresAndComments(studentData)"
   ]
  }
 ],
 "metadata": {
  "kernelspec": {
   "display_name": "venv",
   "language": "python",
   "name": "python3"
  },
  "language_info": {
   "codemirror_mode": {
    "name": "ipython",
    "version": 3
   },
   "file_extension": ".py",
   "mimetype": "text/x-python",
   "name": "python",
   "nbconvert_exporter": "python",
   "pygments_lexer": "ipython3",
   "version": "3.12.4"
  }
 },
 "nbformat": 4,
 "nbformat_minor": 2
}
