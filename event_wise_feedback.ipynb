{
 "cells": [
  {
   "cell_type": "code",
   "execution_count": 1,
   "metadata": {},
   "outputs": [],
   "source": [
    "import warnings\n",
    "import firebase_admin\n",
    "from firebase_admin import credentials, firestore\n",
    "import pandas as pd\n",
    "\n",
    "warnings.filterwarnings(\"ignore\")"
   ]
  },
  {
   "cell_type": "code",
   "execution_count": 2,
   "metadata": {},
   "outputs": [],
   "source": [
    "cred = credentials.Certificate(\"slts-8e29d-firebase-adminsdk-i6d1u-d3ea7654ac.json\")\n",
    "firebase_admin.initialize_app(cred)\n",
    "db = firestore.client()"
   ]
  },
  {
   "cell_type": "code",
   "execution_count": 3,
   "metadata": {},
   "outputs": [],
   "source": [
    "registrationData = db.collection('registrationData').stream()\n",
    "data = []\n",
    "for doc in registrationData:\n",
    "    data.append(doc.to_dict())\n",
    "\n",
    "df = pd.DataFrame(data)"
   ]
  },
  {
   "cell_type": "code",
   "execution_count": null,
   "metadata": {},
   "outputs": [],
   "source": [
    "df"
   ]
  },
  {
   "cell_type": "code",
   "execution_count": null,
   "metadata": {},
   "outputs": [],
   "source": [
    "df.columns"
   ]
  },
  {
   "cell_type": "code",
   "execution_count": 6,
   "metadata": {},
   "outputs": [],
   "source": [
    "df['event1'] = df['registeredEvents'].apply(lambda x: x[0] if len(x) > 0 else \"\")\n",
    "df['event2'] = df['registeredEvents'].apply(lambda x: x[1] if len(x) > 1 else \"\")"
   ]
  },
  {
   "cell_type": "code",
   "execution_count": null,
   "metadata": {},
   "outputs": [],
   "source": [
    "new_df = df[['studentId', 'studentFullName', 'studentGroup', 'district', 'samithiName', 'gender', 'event1', 'event2', 'score', 'comment',]]\n",
    "new_df"
   ]
  },
  {
   "cell_type": "code",
   "execution_count": 8,
   "metadata": {},
   "outputs": [],
   "source": [
    "data = new_df.to_dict(orient='records')"
   ]
  },
  {
   "cell_type": "code",
   "execution_count": 9,
   "metadata": {},
   "outputs": [],
   "source": [
    "def totalScore(score, event):\n",
    "    if type(score) is not dict:\n",
    "        return 0\n",
    "    if type(event) is not str:\n",
    "        return 0\n",
    "    if event not in score:\n",
    "        return 0\n",
    "    \n",
    "    total = 0\n",
    "    for _, value in score[event].items():\n",
    "        if value:\n",
    "            for _, v in value.items():\n",
    "                if str(v).isdigit():\n",
    "                    total += int(v)\n",
    "\n",
    "    return total\n",
    "\n",
    "def extractComment(comment, event):\n",
    "    if type(comment) is not dict:\n",
    "        return \"\"\n",
    "    if type(event) is not str:\n",
    "        return \"\"\n",
    "    if event not in comment:\n",
    "        return \"\"\n",
    "    \n",
    "\n",
    "    commentString = \"\"\n",
    "    for _, value in comment[event].items():\n",
    "        if value:\n",
    "            value = value.strip()\n",
    "            value = value.replace(\"\\n\", \" \")\n",
    "            value = value.replace(\"\\r\", \" \")\n",
    "            value = value.replace(\"\\t\", \" \")\n",
    "            value = value.replace(\",\", \" \")\n",
    "            commentString += value + \".......\"\n",
    "\n",
    "    return commentString\n",
    "\n",
    "for d in data:\n",
    "    d['event1Score'] = totalScore(d['score'], d['event1'])\n",
    "    d['event2Score'] = totalScore(d['score'], d['event2'])\n",
    "    d['event1Comment'] = extractComment(d['comment'], d['event1'])\n",
    "    d['event2Comment'] = extractComment(d['comment'], d['event2'])\n"
   ]
  },
  {
   "cell_type": "code",
   "execution_count": null,
   "metadata": {},
   "outputs": [],
   "source": [
    "new_df = pd.DataFrame(data)\n",
    "new_df"
   ]
  },
  {
   "cell_type": "code",
   "execution_count": null,
   "metadata": {},
   "outputs": [],
   "source": [
    "new_df.drop(['score', 'comment'], axis=1, inplace=True)\n",
    "# Sort by district,\n",
    "new_df.sort_values(by=['district'], inplace=True)\n",
    "new_df"
   ]
  },
  {
   "cell_type": "code",
   "execution_count": 12,
   "metadata": {},
   "outputs": [],
   "source": [
    "new_df.to_csv('scores_comments_slts_2024.csv', index=False)"
   ]
  },
  {
   "cell_type": "code",
   "execution_count": null,
   "metadata": {},
   "outputs": [],
   "source": [
    "df = df[['studentId', 'studentFullName', 'studentGroup', 'district', 'samithiName', 'gender', 'event1', 'event2', 'registeredEvents']]\n",
    "df"
   ]
  },
  {
   "cell_type": "code",
   "execution_count": null,
   "metadata": {},
   "outputs": [],
   "source": [
    "unique_events = df['registeredEvents'].apply(lambda x: x[0] if len(x) > 0 else \"\").unique()\n",
    "unique_events = unique_events.tolist()\n",
    "unique_events.extend(df['registeredEvents'].apply(lambda x: x[1] if len(x) > 1 else \"\").unique().tolist())\n",
    "unique_events = list(set(unique_events))\n",
    "unique_events.remove(\"\")\n",
    "unique_events"
   ]
  },
  {
   "cell_type": "code",
   "execution_count": null,
   "metadata": {},
   "outputs": [],
   "source": [
    "unique_districts = df['district'].unique()\n",
    "unique_districts = unique_districts.tolist()\n",
    "unique_districts"
   ]
  },
  {
   "cell_type": "code",
   "execution_count": 16,
   "metadata": {},
   "outputs": [],
   "source": [
    "event_stat = {}\n",
    "for event in unique_events:\n",
    "    event_stat[event] = {\n",
    "        \"Male\": 0,\n",
    "        \"Female\": 0,\n",
    "        \"Total\": 0,\n",
    "    }\n",
    "    for district in unique_districts:\n",
    "        event_stat[event][district] = 0\n",
    "# event_stat"
   ]
  },
  {
   "cell_type": "code",
   "execution_count": null,
   "metadata": {},
   "outputs": [],
   "source": [
    "df"
   ]
  },
  {
   "cell_type": "code",
   "execution_count": null,
   "metadata": {},
   "outputs": [],
   "source": [
    "for _, row in df.iterrows():\n",
    "    try:\n",
    "        if row['event1'] != \"\":\n",
    "            event1 = row['event1']\n",
    "            event_stat[event1][row['gender']] += 1\n",
    "            event_stat[event1][row['district']] += 1\n",
    "            event_stat[event1]['Total'] += 1\n",
    "\n",
    "        if row['event2'] != \"\":\n",
    "            event2 = row['event2']\n",
    "            event_stat[event2][row['gender']] += 1\n",
    "            event_stat[event2][row['district']] += 1\n",
    "            event_stat[event2]['Total'] += 1\n",
    "        \n",
    "    except Exception as e:\n",
    "        print(e)\n",
    "\n",
    "# Find count of unique district in each event\n",
    "for event in unique_events:\n",
    "    event_stat[event]['uniqueDistricts'] = 0\n",
    "    event_stat[event]['districtList'] = \"\"\n",
    "    for district in unique_districts:\n",
    "        if event_stat[event][district] > 0:\n",
    "            event_stat[event]['uniqueDistricts'] += 1\n",
    "            event_stat[event]['districtList'] += district + \"...\"\n",
    "    \n",
    "\n",
    "\n",
    "event_stat_df = pd.DataFrame(event_stat)\n",
    "# invert the dataframe\n",
    "event_stat_df = event_stat_df.T\n",
    "event_stat_df.index.name = 'Event'\n",
    "event_stat_df = event_stat_df[['Male', 'Female', 'Total', 'uniqueDistricts', 'districtList']]\n",
    "event_stat_df"
   ]
  },
  {
   "cell_type": "code",
   "execution_count": 19,
   "metadata": {},
   "outputs": [],
   "source": [
    "event_stat_df.to_csv('event_stat_slts_2024.csv')"
   ]
  },
  {
   "cell_type": "code",
   "execution_count": null,
   "metadata": {},
   "outputs": [],
   "source": [
    "# Overall stats\n",
    "overall_stats = {}\n",
    "\n",
    "for district in unique_districts:\n",
    "    overall_stats[district] = {\n",
    "        'Male': 0,\n",
    "        'Female': 0,\n",
    "        'Total': 0,\n",
    "    }\n",
    "\n",
    "for _, row in df.iterrows():\n",
    "    try:\n",
    "        overall_stats[row['district']]['Total'] += 1\n",
    "        overall_stats[row['district']][row['gender']] += 1\n",
    "    except Exception as e:\n",
    "        print(e)\n",
    "\n",
    "overall_stats_df = pd.DataFrame(overall_stats)\n",
    "overall_stats_df = overall_stats_df.T\n",
    "overall_stats_df.index.name = 'District'\n",
    "overall_stats_df"
   ]
  },
  {
   "cell_type": "code",
   "execution_count": null,
   "metadata": {},
   "outputs": [],
   "source": [
    "overall_stats_df.to_csv('overall_stats_slts_2024.csv')"
   ]
  }
 ],
 "metadata": {
  "kernelspec": {
   "display_name": "venv",
   "language": "python",
   "name": "python3"
  },
  "language_info": {
   "codemirror_mode": {
    "name": "ipython",
    "version": 3
   },
   "file_extension": ".py",
   "mimetype": "text/x-python",
   "name": "python",
   "nbconvert_exporter": "python",
   "pygments_lexer": "ipython3",
   "version": "3.12.4"
  }
 },
 "nbformat": 4,
 "nbformat_minor": 2
}
