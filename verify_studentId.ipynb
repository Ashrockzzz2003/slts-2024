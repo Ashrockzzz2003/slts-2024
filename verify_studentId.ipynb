{
 "cells": [
  {
   "cell_type": "code",
   "execution_count": 1,
   "metadata": {},
   "outputs": [],
   "source": [
    "import pandas as pd\n",
    "import warnings\n",
    "import firebase_admin\n",
    "from firebase_admin import credentials, firestore\n",
    "\n",
    "import math\n",
    "\n",
    "warnings.filterwarnings(\"ignore\")"
   ]
  },
  {
   "cell_type": "code",
   "execution_count": 2,
   "metadata": {},
   "outputs": [],
   "source": [
    "cred = credentials.Certificate(\"slts-8e29d-firebase-adminsdk-i6d1u-d3ea7654ac.json\")\n",
    "firebase_admin.initialize_app(cred)\n",
    "db = firestore.client()"
   ]
  },
  {
   "cell_type": "code",
   "execution_count": 3,
   "metadata": {},
   "outputs": [],
   "source": [
    "# Read collection registrationData\n",
    "registrationData = db.collection('registrationData').stream()\n",
    "data = []\n",
    "for doc in registrationData:\n",
    "    data.append(doc.to_dict())\n",
    "\n",
    "# Build a dict of studentId to studentFullName\n",
    "\n",
    "studentIdToFullName = {}\n",
    "for student in data:\n",
    "    studentIdToFullName[student['studentId']] = student['studentFullName']\n",
    "\n",
    "# studentIdToFullName"
   ]
  },
  {
   "cell_type": "code",
   "execution_count": 4,
   "metadata": {},
   "outputs": [],
   "source": [
    "source_df = pd.read_csv('complete_registration_data.csv')\n",
    "\n",
    "# Check if the studentId map to the correct studentFullName\n",
    "for index, row in source_df.iterrows():\n",
    "    if studentIdToFullName[row['studentId']] != row['studentFullName']:\n",
    "        print(f\"studentId {row['studentId']} does not match studentFullName {row['studentFullName']}\")\n",
    "        # print diff\n",
    "        print(studentIdToFullName[row['studentId']])\n",
    "        print(row['studentFullName'])"
   ]
  }
 ],
 "metadata": {
  "kernelspec": {
   "display_name": "venv",
   "language": "python",
   "name": "python3"
  },
  "language_info": {
   "codemirror_mode": {
    "name": "ipython",
    "version": 3
   },
   "file_extension": ".py",
   "mimetype": "text/x-python",
   "name": "python",
   "nbconvert_exporter": "python",
   "pygments_lexer": "ipython3",
   "version": "3.12.4"
  }
 },
 "nbformat": 4,
 "nbformat_minor": 2
}
