{
 "cells": [
  {
   "cell_type": "code",
   "execution_count": 14,
   "metadata": {},
   "outputs": [],
   "source": [
    "import pandas as pd\n",
    "import warnings\n",
    "import firebase_admin\n",
    "from firebase_admin import credentials, firestore, auth\n",
    "\n",
    "warnings.filterwarnings(\"ignore\")"
   ]
  },
  {
   "cell_type": "code",
   "execution_count": null,
   "metadata": {},
   "outputs": [],
   "source": [
    "cred = credentials.Certificate(\"slts-8e29d-firebase-adminsdk-i6d1u-d3ea7654ac.json\")\n",
    "firebase_admin.initialize_app(cred)\n",
    "db = firestore.client()"
   ]
  },
  {
   "cell_type": "code",
   "execution_count": null,
   "metadata": {},
   "outputs": [],
   "source": [
    "df = pd.read_csv(\"access_data_1.csv\")\n",
    "df"
   ]
  },
  {
   "cell_type": "code",
   "execution_count": null,
   "metadata": {},
   "outputs": [],
   "source": [
    "df = df[df[\"Access Status\"] == \"Pending\"]\n",
    "df"
   ]
  },
  {
   "cell_type": "code",
   "execution_count": null,
   "metadata": {},
   "outputs": [],
   "source": [
    "def createUser(email, name):\n",
    "    email = str(email).lower().strip()\n",
    "    user = auth.create_user(\n",
    "        email=email,\n",
    "        email_verified=False,\n",
    "        password=\"controlroom@23111926\",\n",
    "        display_name=name,\n",
    "    )\n",
    "\n",
    "    doc  = db.collection(\"userData\").document(user.uid)\n",
    "    doc.set({\n",
    "        \"email\": email,\n",
    "        \"name\": name,\n",
    "        \"role\": \"admin\",\n",
    "        \"id\": user.uid\n",
    "    })\n",
    "\n",
    "    return user.uid\n",
    "\n",
    "\n",
    "for index, row in df.iterrows():\n",
    "    email = row[\"Email Address\"]\n",
    "    name = row[\"Full Name\"]\n",
    "    uid = createUser(email, name)\n",
    "    print(f\"User {name} created with uid {uid}\")\n",
    "    df.loc[index, \"Access Status\"] = \"Done\""
   ]
  },
  {
   "cell_type": "code",
   "execution_count": null,
   "metadata": {},
   "outputs": [],
   "source": []
  }
 ],
 "metadata": {
  "kernelspec": {
   "display_name": "venv",
   "language": "python",
   "name": "python3"
  },
  "language_info": {
   "codemirror_mode": {
    "name": "ipython",
    "version": 3
   },
   "file_extension": ".py",
   "mimetype": "text/x-python",
   "name": "python",
   "nbconvert_exporter": "python",
   "pygments_lexer": "ipython3",
   "version": "3.12.4"
  }
 },
 "nbformat": 4,
 "nbformat_minor": 2
}
